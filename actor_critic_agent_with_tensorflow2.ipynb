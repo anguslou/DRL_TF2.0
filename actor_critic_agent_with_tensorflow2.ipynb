{
  "nbformat": 4,
  "nbformat_minor": 0,
  "metadata": {
    "colab": {
      "name": "Copy of actor-critic-agent-with-tensorflow2.ipynb",
      "version": "0.3.2",
      "provenance": [],
      "collapsed_sections": [],
      "include_colab_link": true
    },
    "kernelspec": {
      "name": "python3",
      "display_name": "Python 3"
    },
    "accelerator": "TPU"
  },
  "cells": [
    {
      "cell_type": "markdown",
      "metadata": {
        "id": "view-in-github",
        "colab_type": "text"
      },
      "source": [
        "<a href=\"https://colab.research.google.com/github/anguslou/DRL_TF2.0/blob/master/actor_critic_agent_with_tensorflow2.ipynb\" target=\"_parent\"><img src=\"https://colab.research.google.com/assets/colab-badge.svg\" alt=\"Open In Colab\"/></a>"
      ]
    },
    {
      "metadata": {
        "id": "rPMkxVFBg85m",
        "colab_type": "text"
      },
      "cell_type": "markdown",
      "source": [
        "# Deep Reinforcement Learning with TensorFlow 2.0"
      ]
    },
    {
      "metadata": {
        "id": "0IFjMkr_g4ZK",
        "colab_type": "text"
      },
      "cell_type": "markdown",
      "source": [
        "## Setup"
      ]
    },
    {
      "metadata": {
        "id": "08aIvFN7hNhl",
        "colab_type": "code",
        "outputId": "3e3e09f5-4efc-4c0b-8dcb-0669a1e869e3",
        "colab": {
          "base_uri": "https://localhost:8080/",
          "height": 354
        }
      },
      "cell_type": "code",
      "source": [
        "# http://inoryy.com/post/tensorflow2-deep-reinforcement-learning/?fbclid=IwAR2HU2dBugokB9avZHGfFoLXRzJjQkOLIjxw89VwN3aIdimGJ1C7gqHQjIA\n",
        "\n",
        "!pip install tf-nightly-2.0-preview"
      ],
      "execution_count": 0,
      "outputs": [
        {
          "output_type": "stream",
          "text": [
            "Requirement already satisfied: tf-nightly-2.0-preview in /usr/local/lib/python3.6/dist-packages (1.13.0.dev20190117)\n",
            "Requirement already satisfied: protobuf>=3.6.1 in /usr/local/lib/python3.6/dist-packages (from tf-nightly-2.0-preview) (3.6.1)\n",
            "Requirement already satisfied: gast>=0.2.0 in /usr/local/lib/python3.6/dist-packages (from tf-nightly-2.0-preview) (0.2.2)\n",
            "Requirement already satisfied: astor>=0.6.0 in /usr/local/lib/python3.6/dist-packages (from tf-nightly-2.0-preview) (0.7.1)\n",
            "Requirement already satisfied: tensorflow-estimator-2.0-preview in /usr/local/lib/python3.6/dist-packages (from tf-nightly-2.0-preview) (1.13.0.dev2019012200)\n",
            "Requirement already satisfied: grpcio>=1.8.6 in /usr/local/lib/python3.6/dist-packages (from tf-nightly-2.0-preview) (1.15.0)\n",
            "Requirement already satisfied: absl-py>=0.1.6 in /usr/local/lib/python3.6/dist-packages (from tf-nightly-2.0-preview) (0.6.1)\n",
            "Requirement already satisfied: termcolor>=1.1.0 in /usr/local/lib/python3.6/dist-packages (from tf-nightly-2.0-preview) (1.1.0)\n",
            "Requirement already satisfied: six>=1.10.0 in /usr/local/lib/python3.6/dist-packages (from tf-nightly-2.0-preview) (1.11.0)\n",
            "Requirement already satisfied: keras-preprocessing>=1.0.5 in /usr/local/lib/python3.6/dist-packages (from tf-nightly-2.0-preview) (1.0.5)\n",
            "Requirement already satisfied: tb-nightly<1.14.0a0,>=1.13.0a0 in /usr/local/lib/python3.6/dist-packages (from tf-nightly-2.0-preview) (1.13.0a20190122)\n",
            "Requirement already satisfied: keras-applications>=1.0.6 in /usr/local/lib/python3.6/dist-packages (from tf-nightly-2.0-preview) (1.0.6)\n",
            "Requirement already satisfied: wheel>=0.26 in /usr/local/lib/python3.6/dist-packages (from tf-nightly-2.0-preview) (0.32.3)\n",
            "Requirement already satisfied: google-pasta>=0.1.1 in /usr/local/lib/python3.6/dist-packages (from tf-nightly-2.0-preview) (0.1.1)\n",
            "Requirement already satisfied: numpy>=1.13.3 in /usr/local/lib/python3.6/dist-packages (from tf-nightly-2.0-preview) (1.14.6)\n",
            "Requirement already satisfied: setuptools in /usr/local/lib/python3.6/dist-packages (from protobuf>=3.6.1->tf-nightly-2.0-preview) (40.6.3)\n",
            "Requirement already satisfied: werkzeug>=0.11.15 in /usr/local/lib/python3.6/dist-packages (from tb-nightly<1.14.0a0,>=1.13.0a0->tf-nightly-2.0-preview) (0.14.1)\n",
            "Requirement already satisfied: markdown>=2.6.8 in /usr/local/lib/python3.6/dist-packages (from tb-nightly<1.14.0a0,>=1.13.0a0->tf-nightly-2.0-preview) (3.0.1)\n",
            "Requirement already satisfied: h5py in /usr/local/lib/python3.6/dist-packages (from keras-applications>=1.0.6->tf-nightly-2.0-preview) (2.8.0)\n"
          ],
          "name": "stdout"
        }
      ]
    },
    {
      "metadata": {
        "id": "QipBW2W7g4ZL",
        "colab_type": "code",
        "colab": {}
      },
      "cell_type": "code",
      "source": [
        "import gym\n",
        "import logging\n",
        "import numpy as np\n",
        "import tensorflow as tf\n",
        "import tensorflow.keras.layers as kl\n",
        "import tensorflow.keras.losses as kls\n",
        "import tensorflow.keras.optimizers as ko"
      ],
      "execution_count": 0,
      "outputs": []
    },
    {
      "metadata": {
        "id": "oyx5ah4Xg4ZO",
        "colab_type": "code",
        "colab": {}
      },
      "cell_type": "code",
      "source": [
        "import matplotlib\n",
        "import matplotlib.pyplot as plt\n",
        "%matplotlib inline  "
      ],
      "execution_count": 0,
      "outputs": []
    },
    {
      "metadata": {
        "id": "kmjplMPwg4ZR",
        "colab_type": "code",
        "outputId": "c08d1223-f965-4452-b76f-d5a32bf6ebcd",
        "colab": {
          "base_uri": "https://localhost:8080/",
          "height": 52
        }
      },
      "cell_type": "code",
      "source": [
        "print(\"TensorFlow Ver: \", tf.__version__)\n",
        "print(\"Eager Execution:\", tf.executing_eagerly())"
      ],
      "execution_count": 0,
      "outputs": [
        {
          "output_type": "stream",
          "text": [
            "TensorFlow Ver:  1.13.0-dev20190117\n",
            "Eager Execution: True\n"
          ],
          "name": "stdout"
        }
      ]
    },
    {
      "metadata": {
        "id": "lr62U1IPg4ZU",
        "colab_type": "code",
        "outputId": "a40de307-52d0-4e39-d38f-22cc32a015cd",
        "colab": {
          "base_uri": "https://localhost:8080/",
          "height": 34
        }
      },
      "cell_type": "code",
      "source": [
        "# eager by default!\n",
        "print(\"1 + 2 + 3 + 4 + 5 =\", tf.reduce_sum([1, 2, 3, 4, 5]))"
      ],
      "execution_count": 0,
      "outputs": [
        {
          "output_type": "stream",
          "text": [
            "1 + 2 + 3 + 4 + 5 = tf.Tensor(15, shape=(), dtype=int32)\n"
          ],
          "name": "stdout"
        }
      ]
    },
    {
      "metadata": {
        "id": "1kO-Mnllg4ZX",
        "colab_type": "text"
      },
      "cell_type": "markdown",
      "source": [
        "## Advantage Actor-Critic with TensorFlow 2.0"
      ]
    },
    {
      "metadata": {
        "id": "jFGPAkQNg4ZX",
        "colab_type": "text"
      },
      "cell_type": "markdown",
      "source": [
        "### Policy & Value Model Class"
      ]
    },
    {
      "metadata": {
        "id": "wIQ8YHmxg4ZZ",
        "colab_type": "code",
        "colab": {}
      },
      "cell_type": "code",
      "source": [
        "class ProbabilityDistribution(tf.keras.Model):\n",
        "    def call(self, logits):\n",
        "        # sample a random categorical action from given logits\n",
        "        return tf.squeeze(tf.random.categorical(logits, 1), axis=-1)\n",
        "\n",
        "class Model(tf.keras.Model):\n",
        "    def __init__(self, num_actions):\n",
        "        super().__init__('mlp_policy')\n",
        "        # no tf.get_variable(), just simple Keras API\n",
        "        self.hidden1 = kl.Dense(128, activation='relu')\n",
        "        self.hidden2 = kl.Dense(128, activation='relu')\n",
        "        self.value = kl.Dense(1, name='value')\n",
        "        # logits are unnormalized log probabilities\n",
        "        self.logits = kl.Dense(num_actions, name='policy_logits')\n",
        "        self.dist = ProbabilityDistribution()\n",
        "\n",
        "    def call(self, inputs):\n",
        "        # inputs is a numpy array, convert to Tensor\n",
        "        x = tf.convert_to_tensor(inputs)\n",
        "        # separate hidden layers from the same input tensor\n",
        "        hidden_logs = self.hidden1(x)\n",
        "        hidden_vals = self.hidden2(x)\n",
        "        return self.logits(hidden_logs), self.value(hidden_vals)\n",
        "\n",
        "    def action_value(self, obs):\n",
        "        # executes call() under the hood\n",
        "        logits, value = self.predict(obs)\n",
        "        action = self.dist.predict(logits)\n",
        "        # a simpler option, will become clear later why we don't use it\n",
        "        # action = tf.random.categorical(logits, 1)\n",
        "        return np.squeeze(action, axis=-1), np.squeeze(value, axis=-1)"
      ],
      "execution_count": 0,
      "outputs": []
    },
    {
      "metadata": {
        "id": "_g8dFW1rg4Zb",
        "colab_type": "text"
      },
      "cell_type": "markdown",
      "source": [
        "### Advantage Actor-Critic Agent Class"
      ]
    },
    {
      "metadata": {
        "id": "M-pKLzu2g4Zb",
        "colab_type": "code",
        "colab": {}
      },
      "cell_type": "code",
      "source": [
        "class A2CAgent:\n",
        "    def __init__(self, model):\n",
        "        # hyperparameters for loss terms, gamma is the discount coefficient\n",
        "        self.params = {\n",
        "            'gamma': 0.99,\n",
        "            'value': 0.5,\n",
        "            'entropy': 0.0001\n",
        "        }\n",
        "        self.model = model\n",
        "        self.model.compile(\n",
        "            optimizer=ko.RMSprop(lr=0.0007),\n",
        "            # define separate losses for policy logits and value estimate\n",
        "            loss=[self._logits_loss, self._value_loss]\n",
        "        )\n",
        "    \n",
        "    def train(self, env, batch_sz=32, updates=1000):\n",
        "        # storage helpers for a single batch of data\n",
        "        actions = np.empty((batch_sz,), dtype=np.int32)\n",
        "        rewards, dones, values = np.empty((3, batch_sz))\n",
        "        observations = np.empty((batch_sz,) + env.observation_space.shape)\n",
        "        # training loop: collect samples, send to optimizer, repeat updates times\n",
        "        ep_rews = [0.0]\n",
        "        next_obs = env.reset()\n",
        "        for update in range(updates):\n",
        "            for step in range(batch_sz):\n",
        "                observations[step] = next_obs.copy()\n",
        "                actions[step], values[step] = self.model.action_value(next_obs[None, :])\n",
        "                next_obs, rewards[step], dones[step], _ = env.step(actions[step])\n",
        "\n",
        "                ep_rews[-1] += rewards[step]\n",
        "                if dones[step]:\n",
        "                    ep_rews.append(0.0)\n",
        "                    next_obs = env.reset()\n",
        "                    logging.info(\"Episode: %03d, Reward: %03d\" % (len(ep_rews)-1, ep_rews[-2]))\n",
        "\n",
        "            _, next_value = self.model.action_value(next_obs[None, :])\n",
        "            returns, advs = self._returns_advantages(rewards, dones, values, next_value)\n",
        "            # a trick to input actions and advantages through same API\n",
        "            acts_and_advs = np.concatenate([actions[:, None], advs[:, None]], axis=-1)\n",
        "            # performs a full training step on the collected batch\n",
        "            # note: no need to mess around with gradients, Keras API handles it\n",
        "            losses = self.model.train_on_batch(observations, [acts_and_advs, returns])\n",
        "            logging.debug(\"[%d/%d] Losses: %s\" % (update+1, updates, losses))\n",
        "        return ep_rews\n",
        "\n",
        "    def test(self, env, render=False):\n",
        "        obs, done, ep_reward = env.reset(), False, 0\n",
        "        while not done:\n",
        "            action, _ = self.model.action_value(obs[None, :])\n",
        "            obs, reward, done, _ = env.step(action)\n",
        "            ep_reward += reward\n",
        "            if render:\n",
        "                env.render()\n",
        "        return ep_reward\n",
        "\n",
        "    def _returns_advantages(self, rewards, dones, values, next_value):\n",
        "        # next_value is the bootstrap value estimate of a future state (the critic)\n",
        "        returns = np.append(np.zeros_like(rewards), next_value, axis=-1)\n",
        "        # returns are calculated as discounted sum of future rewards\n",
        "        for t in reversed(range(rewards.shape[0])):\n",
        "            returns[t] = rewards[t] + self.params['gamma'] * returns[t+1] * (1-dones[t])\n",
        "        returns = returns[:-1]\n",
        "        # advantages are returns - baseline, value estimates in our case\n",
        "        advantages = returns - values\n",
        "        return returns, advantages\n",
        "    \n",
        "    def _value_loss(self, returns, value):\n",
        "        # value loss is typically MSE between value estimates and returns\n",
        "        return self.params['value']*kls.mean_squared_error(returns, value)\n",
        "\n",
        "    def _logits_loss(self, acts_and_advs, logits):\n",
        "        # a trick to input actions and advantages through same API\n",
        "        actions, advantages = tf.split(acts_and_advs, 2, axis=-1)\n",
        "        # polymorphic CE loss function that supports sparse and weighted options\n",
        "        # from_logits argument ensures transformation into normalized probabilities\n",
        "        cross_entropy = kls.CategoricalCrossentropy(from_logits=True)\n",
        "        # policy loss is defined by policy gradients, weighted by advantages\n",
        "        # note: we only calculate the loss on the actions we've actually taken\n",
        "        # thus under the hood a sparse version of CE loss will be executed\n",
        "        actions = tf.cast(actions, tf.int32)\n",
        "        policy_loss = cross_entropy(actions, logits, sample_weight=advantages)\n",
        "        # entropy loss can be calculated via CE over itself\n",
        "        entropy_loss = cross_entropy(logits, logits)\n",
        "        # here signs are flipped because optimizer minimizes\n",
        "        return policy_loss - self.params['entropy']*entropy_loss"
      ],
      "execution_count": 0,
      "outputs": []
    },
    {
      "metadata": {
        "id": "yf1I04Ttg4Ze",
        "colab_type": "code",
        "outputId": "7ed9d5a6-d1e0-4d89-ff05-f43adee914cf",
        "colab": {
          "base_uri": "https://localhost:8080/",
          "height": 123
        }
      },
      "cell_type": "code",
      "source": [
        "env = gym.make('CartPole-v0')\n",
        "model = Model(num_actions=env.action_space.n)\n",
        "model.action_value(env.reset()[None, :])"
      ],
      "execution_count": 0,
      "outputs": [
        {
          "output_type": "stream",
          "text": [
            "WARNING:tensorflow:From /usr/local/lib/python3.6/dist-packages/tensorflow/python/ops/resource_variable_ops.py:655: colocate_with (from tensorflow.python.framework.ops) is deprecated and will be removed in a future version.\n",
            "Instructions for updating:\n",
            "Colocations handled automatically by placer.\n"
          ],
          "name": "stdout"
        },
        {
          "output_type": "stream",
          "text": [
            "/usr/local/lib/python3.6/dist-packages/gym/envs/registration.py:14: PkgResourcesDeprecationWarning: Parameters to load are deprecated.  Call .resolve and .require separately.\n",
            "  result = entry_point.load(False)\n"
          ],
          "name": "stderr"
        },
        {
          "output_type": "execute_result",
          "data": {
            "text/plain": [
              "(array(0), array([-0.00667253], dtype=float32))"
            ]
          },
          "metadata": {
            "tags": []
          },
          "execution_count": 9
        }
      ]
    },
    {
      "metadata": {
        "id": "n8LFt3keg4Zh",
        "colab_type": "text"
      },
      "cell_type": "markdown",
      "source": [
        "## Training A2C Agent & Results"
      ]
    },
    {
      "metadata": {
        "id": "1mxzrB1Ng4Zi",
        "colab_type": "code",
        "outputId": "aab937a4-9144-4fa8-ab6b-04fa4dbc995c",
        "colab": {
          "base_uri": "https://localhost:8080/",
          "height": 52
        }
      },
      "cell_type": "code",
      "source": [
        "env = gym.make('CartPole-v0')\n",
        "model = Model(num_actions=env.action_space.n)\n",
        "agent = A2CAgent(model)"
      ],
      "execution_count": 0,
      "outputs": [
        {
          "output_type": "stream",
          "text": [
            "/usr/local/lib/python3.6/dist-packages/gym/envs/registration.py:14: PkgResourcesDeprecationWarning: Parameters to load are deprecated.  Call .resolve and .require separately.\n",
            "  result = entry_point.load(False)\n"
          ],
          "name": "stderr"
        }
      ]
    },
    {
      "metadata": {
        "id": "KR7v0mBig4Zl",
        "colab_type": "text"
      },
      "cell_type": "markdown",
      "source": [
        "### Testing with Random Weights"
      ]
    },
    {
      "metadata": {
        "id": "k3JFA1pDg4Zl",
        "colab_type": "code",
        "outputId": "3cce5471-dadf-48c3-eb47-ef0db4681f94",
        "colab": {
          "base_uri": "https://localhost:8080/",
          "height": 34
        }
      },
      "cell_type": "code",
      "source": [
        "rewards_sum = agent.test(env)\n",
        "print(\"Total Episode Reward: %d out of 200\" % agent.test(env))"
      ],
      "execution_count": 0,
      "outputs": [
        {
          "output_type": "stream",
          "text": [
            "Total Episode Reward: 10 out of 200\n"
          ],
          "name": "stdout"
        }
      ]
    },
    {
      "metadata": {
        "id": "25FRn0aRg4Zo",
        "colab_type": "code",
        "outputId": "f723d8ce-c59c-40ad-c29d-43756d6a35b4",
        "colab": {
          "base_uri": "https://localhost:8080/",
          "height": 7963
        }
      },
      "cell_type": "code",
      "source": [
        "# set to logging.WARNING to disable logs or logging.DEBUG to see losses as well\n",
        "logging.basicConfig(level=logging.INFO)\n",
        "\n",
        "rewards_history = agent.train(env)\n",
        "print(\"Finished training.\")"
      ],
      "execution_count": 0,
      "outputs": [
        {
          "output_type": "stream",
          "text": [
            "INFO:root:Episode: 001, Reward: 028\n",
            "INFO:root:Episode: 002, Reward: 020\n",
            "INFO:root:Episode: 003, Reward: 029\n",
            "INFO:root:Episode: 004, Reward: 012\n",
            "INFO:root:Episode: 005, Reward: 011\n",
            "INFO:root:Episode: 006, Reward: 026\n",
            "INFO:root:Episode: 007, Reward: 016\n",
            "INFO:root:Episode: 008, Reward: 011\n",
            "INFO:root:Episode: 009, Reward: 020\n",
            "INFO:root:Episode: 010, Reward: 020\n",
            "INFO:root:Episode: 011, Reward: 036\n",
            "INFO:root:Episode: 012, Reward: 037\n",
            "INFO:root:Episode: 013, Reward: 068\n",
            "INFO:root:Episode: 014, Reward: 023\n",
            "INFO:root:Episode: 015, Reward: 015\n",
            "INFO:root:Episode: 016, Reward: 013\n",
            "INFO:root:Episode: 017, Reward: 026\n",
            "INFO:root:Episode: 018, Reward: 029\n",
            "INFO:root:Episode: 019, Reward: 020\n",
            "INFO:root:Episode: 020, Reward: 012\n",
            "INFO:root:Episode: 021, Reward: 019\n",
            "INFO:root:Episode: 022, Reward: 012\n",
            "INFO:root:Episode: 023, Reward: 010\n",
            "INFO:root:Episode: 024, Reward: 016\n",
            "INFO:root:Episode: 025, Reward: 032\n",
            "INFO:root:Episode: 026, Reward: 020\n",
            "INFO:root:Episode: 027, Reward: 066\n",
            "INFO:root:Episode: 028, Reward: 013\n",
            "INFO:root:Episode: 029, Reward: 043\n",
            "INFO:root:Episode: 030, Reward: 011\n",
            "INFO:root:Episode: 031, Reward: 024\n",
            "INFO:root:Episode: 032, Reward: 041\n",
            "INFO:root:Episode: 033, Reward: 053\n",
            "INFO:root:Episode: 034, Reward: 012\n",
            "INFO:root:Episode: 035, Reward: 029\n",
            "INFO:root:Episode: 036, Reward: 018\n",
            "INFO:root:Episode: 037, Reward: 035\n",
            "INFO:root:Episode: 038, Reward: 014\n",
            "INFO:root:Episode: 039, Reward: 010\n",
            "INFO:root:Episode: 040, Reward: 044\n",
            "INFO:root:Episode: 041, Reward: 011\n",
            "INFO:root:Episode: 042, Reward: 014\n",
            "INFO:root:Episode: 043, Reward: 015\n",
            "INFO:root:Episode: 044, Reward: 010\n",
            "INFO:root:Episode: 045, Reward: 024\n",
            "INFO:root:Episode: 046, Reward: 030\n",
            "INFO:root:Episode: 047, Reward: 027\n",
            "INFO:root:Episode: 048, Reward: 010\n",
            "INFO:root:Episode: 049, Reward: 024\n",
            "INFO:root:Episode: 050, Reward: 011\n",
            "INFO:root:Episode: 051, Reward: 028\n",
            "INFO:root:Episode: 052, Reward: 015\n",
            "INFO:root:Episode: 053, Reward: 038\n",
            "INFO:root:Episode: 054, Reward: 019\n",
            "INFO:root:Episode: 055, Reward: 025\n",
            "INFO:root:Episode: 056, Reward: 025\n",
            "INFO:root:Episode: 057, Reward: 037\n",
            "INFO:root:Episode: 058, Reward: 013\n",
            "INFO:root:Episode: 059, Reward: 015\n",
            "INFO:root:Episode: 060, Reward: 029\n",
            "INFO:root:Episode: 061, Reward: 021\n",
            "INFO:root:Episode: 062, Reward: 031\n",
            "INFO:root:Episode: 063, Reward: 016\n",
            "INFO:root:Episode: 064, Reward: 110\n",
            "INFO:root:Episode: 065, Reward: 009\n",
            "INFO:root:Episode: 066, Reward: 013\n",
            "INFO:root:Episode: 067, Reward: 017\n",
            "INFO:root:Episode: 068, Reward: 074\n",
            "INFO:root:Episode: 069, Reward: 027\n",
            "INFO:root:Episode: 070, Reward: 022\n",
            "INFO:root:Episode: 071, Reward: 036\n",
            "INFO:root:Episode: 072, Reward: 029\n",
            "INFO:root:Episode: 073, Reward: 016\n",
            "INFO:root:Episode: 074, Reward: 018\n",
            "INFO:root:Episode: 075, Reward: 062\n",
            "INFO:root:Episode: 076, Reward: 035\n",
            "INFO:root:Episode: 077, Reward: 019\n",
            "INFO:root:Episode: 078, Reward: 027\n",
            "INFO:root:Episode: 079, Reward: 056\n",
            "INFO:root:Episode: 080, Reward: 039\n",
            "INFO:root:Episode: 081, Reward: 028\n",
            "INFO:root:Episode: 082, Reward: 015\n",
            "INFO:root:Episode: 083, Reward: 034\n",
            "INFO:root:Episode: 084, Reward: 018\n",
            "INFO:root:Episode: 085, Reward: 083\n",
            "INFO:root:Episode: 086, Reward: 026\n",
            "INFO:root:Episode: 087, Reward: 016\n",
            "INFO:root:Episode: 088, Reward: 047\n",
            "INFO:root:Episode: 089, Reward: 016\n",
            "INFO:root:Episode: 090, Reward: 012\n",
            "INFO:root:Episode: 091, Reward: 050\n",
            "INFO:root:Episode: 092, Reward: 050\n",
            "INFO:root:Episode: 093, Reward: 038\n",
            "INFO:root:Episode: 094, Reward: 020\n",
            "INFO:root:Episode: 095, Reward: 025\n",
            "INFO:root:Episode: 096, Reward: 064\n",
            "INFO:root:Episode: 097, Reward: 017\n",
            "INFO:root:Episode: 098, Reward: 016\n",
            "INFO:root:Episode: 099, Reward: 027\n",
            "INFO:root:Episode: 100, Reward: 041\n",
            "INFO:root:Episode: 101, Reward: 058\n",
            "INFO:root:Episode: 102, Reward: 035\n",
            "INFO:root:Episode: 103, Reward: 039\n",
            "INFO:root:Episode: 104, Reward: 059\n",
            "INFO:root:Episode: 105, Reward: 100\n",
            "INFO:root:Episode: 106, Reward: 030\n",
            "INFO:root:Episode: 107, Reward: 039\n",
            "INFO:root:Episode: 108, Reward: 024\n",
            "INFO:root:Episode: 109, Reward: 048\n",
            "INFO:root:Episode: 110, Reward: 017\n",
            "INFO:root:Episode: 111, Reward: 030\n",
            "INFO:root:Episode: 112, Reward: 021\n",
            "INFO:root:Episode: 113, Reward: 039\n",
            "INFO:root:Episode: 114, Reward: 035\n",
            "INFO:root:Episode: 115, Reward: 015\n",
            "INFO:root:Episode: 116, Reward: 023\n",
            "INFO:root:Episode: 117, Reward: 019\n",
            "INFO:root:Episode: 118, Reward: 025\n",
            "INFO:root:Episode: 119, Reward: 027\n",
            "INFO:root:Episode: 120, Reward: 015\n",
            "INFO:root:Episode: 121, Reward: 045\n",
            "INFO:root:Episode: 122, Reward: 061\n",
            "INFO:root:Episode: 123, Reward: 046\n",
            "INFO:root:Episode: 124, Reward: 032\n",
            "INFO:root:Episode: 125, Reward: 035\n",
            "INFO:root:Episode: 126, Reward: 024\n",
            "INFO:root:Episode: 127, Reward: 047\n",
            "INFO:root:Episode: 128, Reward: 043\n",
            "INFO:root:Episode: 129, Reward: 039\n",
            "INFO:root:Episode: 130, Reward: 050\n",
            "INFO:root:Episode: 131, Reward: 041\n",
            "INFO:root:Episode: 132, Reward: 033\n",
            "INFO:root:Episode: 133, Reward: 081\n",
            "INFO:root:Episode: 134, Reward: 044\n",
            "INFO:root:Episode: 135, Reward: 055\n",
            "INFO:root:Episode: 136, Reward: 016\n",
            "INFO:root:Episode: 137, Reward: 037\n",
            "INFO:root:Episode: 138, Reward: 063\n",
            "INFO:root:Episode: 139, Reward: 035\n",
            "INFO:root:Episode: 140, Reward: 061\n",
            "INFO:root:Episode: 141, Reward: 047\n",
            "INFO:root:Episode: 142, Reward: 028\n",
            "INFO:root:Episode: 143, Reward: 030\n",
            "INFO:root:Episode: 144, Reward: 027\n",
            "INFO:root:Episode: 145, Reward: 063\n",
            "INFO:root:Episode: 146, Reward: 024\n",
            "INFO:root:Episode: 147, Reward: 023\n",
            "INFO:root:Episode: 148, Reward: 010\n",
            "INFO:root:Episode: 149, Reward: 018\n",
            "INFO:root:Episode: 150, Reward: 037\n",
            "INFO:root:Episode: 151, Reward: 068\n",
            "INFO:root:Episode: 152, Reward: 011\n",
            "INFO:root:Episode: 153, Reward: 015\n",
            "INFO:root:Episode: 154, Reward: 015\n",
            "INFO:root:Episode: 155, Reward: 049\n",
            "INFO:root:Episode: 156, Reward: 032\n",
            "INFO:root:Episode: 157, Reward: 017\n",
            "INFO:root:Episode: 158, Reward: 063\n",
            "INFO:root:Episode: 159, Reward: 036\n",
            "INFO:root:Episode: 160, Reward: 069\n",
            "INFO:root:Episode: 161, Reward: 113\n",
            "INFO:root:Episode: 162, Reward: 039\n",
            "INFO:root:Episode: 163, Reward: 035\n",
            "INFO:root:Episode: 164, Reward: 054\n",
            "INFO:root:Episode: 165, Reward: 027\n",
            "INFO:root:Episode: 166, Reward: 012\n",
            "INFO:root:Episode: 167, Reward: 098\n",
            "INFO:root:Episode: 168, Reward: 021\n",
            "INFO:root:Episode: 169, Reward: 045\n",
            "INFO:root:Episode: 170, Reward: 015\n",
            "INFO:root:Episode: 171, Reward: 059\n",
            "INFO:root:Episode: 172, Reward: 039\n",
            "INFO:root:Episode: 173, Reward: 041\n",
            "INFO:root:Episode: 174, Reward: 024\n",
            "INFO:root:Episode: 175, Reward: 114\n",
            "INFO:root:Episode: 176, Reward: 022\n",
            "INFO:root:Episode: 177, Reward: 036\n",
            "INFO:root:Episode: 178, Reward: 039\n",
            "INFO:root:Episode: 179, Reward: 052\n",
            "INFO:root:Episode: 180, Reward: 046\n",
            "INFO:root:Episode: 181, Reward: 026\n",
            "INFO:root:Episode: 182, Reward: 058\n",
            "INFO:root:Episode: 183, Reward: 052\n",
            "INFO:root:Episode: 184, Reward: 030\n",
            "INFO:root:Episode: 185, Reward: 032\n",
            "INFO:root:Episode: 186, Reward: 026\n",
            "INFO:root:Episode: 187, Reward: 069\n",
            "INFO:root:Episode: 188, Reward: 023\n",
            "INFO:root:Episode: 189, Reward: 028\n",
            "INFO:root:Episode: 190, Reward: 038\n",
            "INFO:root:Episode: 191, Reward: 062\n",
            "INFO:root:Episode: 192, Reward: 024\n",
            "INFO:root:Episode: 193, Reward: 041\n",
            "INFO:root:Episode: 194, Reward: 035\n",
            "INFO:root:Episode: 195, Reward: 032\n",
            "INFO:root:Episode: 196, Reward: 029\n",
            "INFO:root:Episode: 197, Reward: 031\n",
            "INFO:root:Episode: 198, Reward: 114\n",
            "INFO:root:Episode: 199, Reward: 040\n",
            "INFO:root:Episode: 200, Reward: 040\n",
            "INFO:root:Episode: 201, Reward: 019\n",
            "INFO:root:Episode: 202, Reward: 072\n",
            "INFO:root:Episode: 203, Reward: 091\n",
            "INFO:root:Episode: 204, Reward: 098\n",
            "INFO:root:Episode: 205, Reward: 049\n",
            "INFO:root:Episode: 206, Reward: 099\n",
            "INFO:root:Episode: 207, Reward: 082\n",
            "INFO:root:Episode: 208, Reward: 115\n",
            "INFO:root:Episode: 209, Reward: 036\n",
            "INFO:root:Episode: 210, Reward: 111\n",
            "INFO:root:Episode: 211, Reward: 052\n",
            "INFO:root:Episode: 212, Reward: 087\n",
            "INFO:root:Episode: 213, Reward: 020\n",
            "INFO:root:Episode: 214, Reward: 029\n",
            "INFO:root:Episode: 215, Reward: 046\n",
            "INFO:root:Episode: 216, Reward: 081\n",
            "INFO:root:Episode: 217, Reward: 154\n",
            "INFO:root:Episode: 218, Reward: 059\n",
            "INFO:root:Episode: 219, Reward: 076\n",
            "INFO:root:Episode: 220, Reward: 058\n",
            "INFO:root:Episode: 221, Reward: 039\n",
            "INFO:root:Episode: 222, Reward: 069\n",
            "INFO:root:Episode: 223, Reward: 059\n",
            "INFO:root:Episode: 224, Reward: 023\n",
            "INFO:root:Episode: 225, Reward: 077\n",
            "INFO:root:Episode: 226, Reward: 065\n",
            "INFO:root:Episode: 227, Reward: 019\n",
            "INFO:root:Episode: 228, Reward: 046\n",
            "INFO:root:Episode: 229, Reward: 061\n",
            "INFO:root:Episode: 230, Reward: 085\n",
            "INFO:root:Episode: 231, Reward: 078\n",
            "INFO:root:Episode: 232, Reward: 107\n",
            "INFO:root:Episode: 233, Reward: 070\n",
            "INFO:root:Episode: 234, Reward: 045\n",
            "INFO:root:Episode: 235, Reward: 062\n",
            "INFO:root:Episode: 236, Reward: 073\n",
            "INFO:root:Episode: 237, Reward: 062\n",
            "INFO:root:Episode: 238, Reward: 044\n",
            "INFO:root:Episode: 239, Reward: 046\n",
            "INFO:root:Episode: 240, Reward: 075\n",
            "INFO:root:Episode: 241, Reward: 030\n",
            "INFO:root:Episode: 242, Reward: 049\n",
            "INFO:root:Episode: 243, Reward: 052\n",
            "INFO:root:Episode: 244, Reward: 102\n",
            "INFO:root:Episode: 245, Reward: 057\n",
            "INFO:root:Episode: 246, Reward: 072\n",
            "INFO:root:Episode: 247, Reward: 042\n",
            "INFO:root:Episode: 248, Reward: 043\n",
            "INFO:root:Episode: 249, Reward: 048\n",
            "INFO:root:Episode: 250, Reward: 028\n",
            "INFO:root:Episode: 251, Reward: 048\n",
            "INFO:root:Episode: 252, Reward: 014\n",
            "INFO:root:Episode: 253, Reward: 018\n",
            "INFO:root:Episode: 254, Reward: 092\n",
            "INFO:root:Episode: 255, Reward: 053\n",
            "INFO:root:Episode: 256, Reward: 059\n",
            "INFO:root:Episode: 257, Reward: 019\n",
            "INFO:root:Episode: 258, Reward: 050\n",
            "INFO:root:Episode: 259, Reward: 048\n",
            "INFO:root:Episode: 260, Reward: 126\n",
            "INFO:root:Episode: 261, Reward: 097\n",
            "INFO:root:Episode: 262, Reward: 067\n",
            "INFO:root:Episode: 263, Reward: 073\n",
            "INFO:root:Episode: 264, Reward: 025\n",
            "INFO:root:Episode: 265, Reward: 043\n",
            "INFO:root:Episode: 266, Reward: 059\n",
            "INFO:root:Episode: 267, Reward: 034\n",
            "INFO:root:Episode: 268, Reward: 032\n",
            "INFO:root:Episode: 269, Reward: 069\n",
            "INFO:root:Episode: 270, Reward: 067\n",
            "INFO:root:Episode: 271, Reward: 063\n",
            "INFO:root:Episode: 272, Reward: 062\n",
            "INFO:root:Episode: 273, Reward: 067\n",
            "INFO:root:Episode: 274, Reward: 038\n",
            "INFO:root:Episode: 275, Reward: 035\n",
            "INFO:root:Episode: 276, Reward: 027\n",
            "INFO:root:Episode: 277, Reward: 039\n",
            "INFO:root:Episode: 278, Reward: 031\n",
            "INFO:root:Episode: 279, Reward: 019\n",
            "INFO:root:Episode: 280, Reward: 061\n",
            "INFO:root:Episode: 281, Reward: 070\n",
            "INFO:root:Episode: 282, Reward: 118\n",
            "INFO:root:Episode: 283, Reward: 058\n",
            "INFO:root:Episode: 284, Reward: 043\n",
            "INFO:root:Episode: 285, Reward: 037\n",
            "INFO:root:Episode: 286, Reward: 058\n",
            "INFO:root:Episode: 287, Reward: 060\n",
            "INFO:root:Episode: 288, Reward: 073\n",
            "INFO:root:Episode: 289, Reward: 059\n",
            "INFO:root:Episode: 290, Reward: 022\n",
            "INFO:root:Episode: 291, Reward: 114\n",
            "INFO:root:Episode: 292, Reward: 069\n",
            "INFO:root:Episode: 293, Reward: 136\n",
            "INFO:root:Episode: 294, Reward: 047\n",
            "INFO:root:Episode: 295, Reward: 053\n",
            "INFO:root:Episode: 296, Reward: 060\n",
            "INFO:root:Episode: 297, Reward: 041\n",
            "INFO:root:Episode: 298, Reward: 080\n",
            "INFO:root:Episode: 299, Reward: 030\n",
            "INFO:root:Episode: 300, Reward: 125\n",
            "INFO:root:Episode: 301, Reward: 069\n",
            "INFO:root:Episode: 302, Reward: 096\n",
            "INFO:root:Episode: 303, Reward: 033\n",
            "INFO:root:Episode: 304, Reward: 105\n",
            "INFO:root:Episode: 305, Reward: 114\n",
            "INFO:root:Episode: 306, Reward: 057\n",
            "INFO:root:Episode: 307, Reward: 040\n",
            "INFO:root:Episode: 308, Reward: 168\n",
            "INFO:root:Episode: 309, Reward: 118\n",
            "INFO:root:Episode: 310, Reward: 040\n",
            "INFO:root:Episode: 311, Reward: 068\n",
            "INFO:root:Episode: 312, Reward: 065\n",
            "INFO:root:Episode: 313, Reward: 021\n",
            "INFO:root:Episode: 314, Reward: 073\n",
            "INFO:root:Episode: 315, Reward: 095\n",
            "INFO:root:Episode: 316, Reward: 055\n",
            "INFO:root:Episode: 317, Reward: 149\n",
            "INFO:root:Episode: 318, Reward: 050\n",
            "INFO:root:Episode: 319, Reward: 071\n",
            "INFO:root:Episode: 320, Reward: 057\n",
            "INFO:root:Episode: 321, Reward: 061\n",
            "INFO:root:Episode: 322, Reward: 137\n",
            "INFO:root:Episode: 323, Reward: 166\n",
            "INFO:root:Episode: 324, Reward: 101\n",
            "INFO:root:Episode: 325, Reward: 079\n",
            "INFO:root:Episode: 326, Reward: 123\n",
            "INFO:root:Episode: 327, Reward: 120\n",
            "INFO:root:Episode: 328, Reward: 122\n",
            "INFO:root:Episode: 329, Reward: 103\n",
            "INFO:root:Episode: 330, Reward: 162\n",
            "INFO:root:Episode: 331, Reward: 110\n",
            "INFO:root:Episode: 332, Reward: 095\n",
            "INFO:root:Episode: 333, Reward: 165\n",
            "INFO:root:Episode: 334, Reward: 100\n",
            "INFO:root:Episode: 335, Reward: 072\n",
            "INFO:root:Episode: 336, Reward: 102\n",
            "INFO:root:Episode: 337, Reward: 101\n",
            "INFO:root:Episode: 338, Reward: 051\n",
            "INFO:root:Episode: 339, Reward: 137\n",
            "INFO:root:Episode: 340, Reward: 083\n",
            "INFO:root:Episode: 341, Reward: 196\n",
            "INFO:root:Episode: 342, Reward: 016\n",
            "INFO:root:Episode: 343, Reward: 137\n",
            "INFO:root:Episode: 344, Reward: 147\n",
            "INFO:root:Episode: 345, Reward: 081\n",
            "INFO:root:Episode: 346, Reward: 134\n",
            "INFO:root:Episode: 347, Reward: 069\n",
            "INFO:root:Episode: 348, Reward: 112\n",
            "INFO:root:Episode: 349, Reward: 050\n",
            "INFO:root:Episode: 350, Reward: 105\n",
            "INFO:root:Episode: 351, Reward: 137\n",
            "INFO:root:Episode: 352, Reward: 116\n",
            "INFO:root:Episode: 353, Reward: 200\n",
            "INFO:root:Episode: 354, Reward: 126\n",
            "INFO:root:Episode: 355, Reward: 054\n",
            "INFO:root:Episode: 356, Reward: 122\n",
            "INFO:root:Episode: 357, Reward: 200\n",
            "INFO:root:Episode: 358, Reward: 189\n",
            "INFO:root:Episode: 359, Reward: 114\n",
            "INFO:root:Episode: 360, Reward: 099\n",
            "INFO:root:Episode: 361, Reward: 088\n",
            "INFO:root:Episode: 362, Reward: 103\n",
            "INFO:root:Episode: 363, Reward: 109\n",
            "INFO:root:Episode: 364, Reward: 200\n",
            "INFO:root:Episode: 365, Reward: 138\n",
            "INFO:root:Episode: 366, Reward: 107\n",
            "INFO:root:Episode: 367, Reward: 166\n",
            "INFO:root:Episode: 368, Reward: 141\n",
            "INFO:root:Episode: 369, Reward: 175\n",
            "INFO:root:Episode: 370, Reward: 036\n",
            "INFO:root:Episode: 371, Reward: 174\n",
            "INFO:root:Episode: 372, Reward: 025\n",
            "INFO:root:Episode: 373, Reward: 117\n",
            "INFO:root:Episode: 374, Reward: 053\n",
            "INFO:root:Episode: 375, Reward: 127\n",
            "INFO:root:Episode: 376, Reward: 200\n",
            "INFO:root:Episode: 377, Reward: 167\n",
            "INFO:root:Episode: 378, Reward: 174\n",
            "INFO:root:Episode: 379, Reward: 183\n",
            "INFO:root:Episode: 380, Reward: 111\n",
            "INFO:root:Episode: 381, Reward: 145\n",
            "INFO:root:Episode: 382, Reward: 191\n",
            "INFO:root:Episode: 383, Reward: 188\n",
            "INFO:root:Episode: 384, Reward: 200\n",
            "INFO:root:Episode: 385, Reward: 066\n",
            "INFO:root:Episode: 386, Reward: 200\n",
            "INFO:root:Episode: 387, Reward: 137\n",
            "INFO:root:Episode: 388, Reward: 200\n",
            "INFO:root:Episode: 389, Reward: 200\n",
            "INFO:root:Episode: 390, Reward: 073\n",
            "INFO:root:Episode: 391, Reward: 107\n",
            "INFO:root:Episode: 392, Reward: 152\n",
            "INFO:root:Episode: 393, Reward: 190\n",
            "INFO:root:Episode: 394, Reward: 200\n",
            "INFO:root:Episode: 395, Reward: 131\n",
            "INFO:root:Episode: 396, Reward: 117\n",
            "INFO:root:Episode: 397, Reward: 055\n",
            "INFO:root:Episode: 398, Reward: 131\n",
            "INFO:root:Episode: 399, Reward: 133\n",
            "INFO:root:Episode: 400, Reward: 102\n",
            "INFO:root:Episode: 401, Reward: 110\n",
            "INFO:root:Episode: 402, Reward: 181\n",
            "INFO:root:Episode: 403, Reward: 063\n",
            "INFO:root:Episode: 404, Reward: 112\n",
            "INFO:root:Episode: 405, Reward: 200\n",
            "INFO:root:Episode: 406, Reward: 107\n",
            "INFO:root:Episode: 407, Reward: 141\n",
            "INFO:root:Episode: 408, Reward: 067\n",
            "INFO:root:Episode: 409, Reward: 114\n",
            "INFO:root:Episode: 410, Reward: 120\n",
            "INFO:root:Episode: 411, Reward: 152\n",
            "INFO:root:Episode: 412, Reward: 124\n",
            "INFO:root:Episode: 413, Reward: 200\n",
            "INFO:root:Episode: 414, Reward: 079\n",
            "INFO:root:Episode: 415, Reward: 048\n",
            "INFO:root:Episode: 416, Reward: 084\n",
            "INFO:root:Episode: 417, Reward: 148\n",
            "INFO:root:Episode: 418, Reward: 139\n",
            "INFO:root:Episode: 419, Reward: 200\n",
            "INFO:root:Episode: 420, Reward: 189\n",
            "INFO:root:Episode: 421, Reward: 200\n",
            "INFO:root:Episode: 422, Reward: 198\n",
            "INFO:root:Episode: 423, Reward: 200\n",
            "INFO:root:Episode: 424, Reward: 200\n",
            "INFO:root:Episode: 425, Reward: 163\n",
            "INFO:root:Episode: 426, Reward: 185\n",
            "INFO:root:Episode: 427, Reward: 193\n",
            "INFO:root:Episode: 428, Reward: 187\n",
            "INFO:root:Episode: 429, Reward: 180\n",
            "INFO:root:Episode: 430, Reward: 179\n",
            "INFO:root:Episode: 431, Reward: 126\n",
            "INFO:root:Episode: 432, Reward: 200\n",
            "INFO:root:Episode: 433, Reward: 200\n",
            "INFO:root:Episode: 434, Reward: 200\n",
            "INFO:root:Episode: 435, Reward: 180\n",
            "INFO:root:Episode: 436, Reward: 200\n",
            "INFO:root:Episode: 437, Reward: 200\n",
            "INFO:root:Episode: 438, Reward: 200\n",
            "INFO:root:Episode: 439, Reward: 120\n",
            "INFO:root:Episode: 440, Reward: 182\n",
            "INFO:root:Episode: 441, Reward: 133\n",
            "INFO:root:Episode: 442, Reward: 200\n",
            "INFO:root:Episode: 443, Reward: 160\n",
            "INFO:root:Episode: 444, Reward: 181\n",
            "INFO:root:Episode: 445, Reward: 200\n",
            "INFO:root:Episode: 446, Reward: 200\n"
          ],
          "name": "stderr"
        },
        {
          "output_type": "stream",
          "text": [
            "Finished training.\n"
          ],
          "name": "stdout"
        }
      ]
    },
    {
      "metadata": {
        "id": "UJ7Ss140g4Zs",
        "colab_type": "text"
      },
      "cell_type": "markdown",
      "source": [
        "### Testing with Trained Model"
      ]
    },
    {
      "metadata": {
        "id": "lbM_P6CMg4Zt",
        "colab_type": "code",
        "outputId": "ea8d8e9c-4c09-42a2-b332-66b0d07562d8",
        "colab": {
          "base_uri": "https://localhost:8080/",
          "height": 34
        }
      },
      "cell_type": "code",
      "source": [
        "print(\"Total Episode Reward: %d out of 200\" % agent.test(env))"
      ],
      "execution_count": 0,
      "outputs": [
        {
          "output_type": "stream",
          "text": [
            "Total Episode Reward: 200 out of 200\n"
          ],
          "name": "stdout"
        }
      ]
    },
    {
      "metadata": {
        "id": "2RFDN0Smg4Zv",
        "colab_type": "text"
      },
      "cell_type": "markdown",
      "source": [
        "### Training Rewards History"
      ]
    },
    {
      "metadata": {
        "id": "ou6PDK8ig4Zx",
        "colab_type": "code",
        "outputId": "e7589069-93dd-430e-9146-15f4895672f0",
        "colab": {
          "base_uri": "https://localhost:8080/",
          "height": 361
        }
      },
      "cell_type": "code",
      "source": [
        "plt.style.use('seaborn')\n",
        "plt.plot(np.arange(0, len(rewards_history), 25), rewards_history[::25])\n",
        "plt.xlabel('Episode')\n",
        "plt.ylabel('Total Reward')\n",
        "plt.show()"
      ],
      "execution_count": 0,
      "outputs": [
        {
          "output_type": "display_data",
          "data": {
            "image/png": "[encoded data removed]",
            "text/plain": [
              "<Figure size 576x396 with 1 Axes>"
            ]
          },
          "metadata": {
            "tags": []
          }
        }
      ]
    },
    {
      "metadata": {
        "id": "zrtyfS8Sg4Z0",
        "colab_type": "text"
      },
      "cell_type": "markdown",
      "source": [
        "## Static Computational Graph"
      ]
    },
    {
      "metadata": {
        "id": "5WA6tTTrg4Z1",
        "colab_type": "code",
        "outputId": "1ca41afb-8407-4f10-ad6c-452c88e789fe",
        "colab": {
          "base_uri": "https://localhost:8080/",
          "height": 7910
        }
      },
      "cell_type": "code",
      "source": [
        "with tf.Graph().as_default():\n",
        "    print(\"Eager Execution:\", tf.executing_eagerly()) # False\n",
        "\n",
        "    model = Model(num_actions=env.action_space.n)\n",
        "    agent = A2CAgent(model)\n",
        "\n",
        "    rewards_history = agent.train(env)\n",
        "    print(\"Finished training, testing...\")\n",
        "    print(\"Total Episode Reward: %d out of 200\" % agent.test(env))"
      ],
      "execution_count": 0,
      "outputs": [
        {
          "output_type": "stream",
          "text": [
            "Eager Execution: False\n",
            "WARNING:tensorflow:From /usr/local/lib/python3.6/dist-packages/tensorflow/python/ops/init_ops.py:1253: calling VarianceScaling.__init__ (from tensorflow.python.ops.init_ops) with dtype is deprecated and will be removed in a future version.\n",
            "Instructions for updating:\n",
            "Call initializer instance with the dtype argument instead of passing it to the constructor\n"
          ],
          "name": "stdout"
        },
        {
          "output_type": "stream",
          "text": [
            "WARNING:tensorflow:From /usr/local/lib/python3.6/dist-packages/tensorflow/python/ops/init_ops.py:1253: calling VarianceScaling.__init__ (from tensorflow.python.ops.init_ops) with dtype is deprecated and will be removed in a future version.\n",
            "Instructions for updating:\n",
            "Call initializer instance with the dtype argument instead of passing it to the constructor\n",
            "INFO:root:Episode: 001, Reward: 017\n",
            "INFO:root:Episode: 002, Reward: 012\n"
          ],
          "name": "stderr"
        },
        {
          "output_type": "stream",
          "text": [
            "WARNING:tensorflow:From /usr/local/lib/python3.6/dist-packages/tensorflow/python/keras/engine/base_layer_utils.py:123: calling Zeros.__init__ (from tensorflow.python.ops.init_ops) with dtype is deprecated and will be removed in a future version.\n",
            "Instructions for updating:\n",
            "Call initializer instance with the dtype argument instead of passing it to the constructor\n"
          ],
          "name": "stdout"
        },
        {
          "output_type": "stream",
          "text": [
            "WARNING:tensorflow:From /usr/local/lib/python3.6/dist-packages/tensorflow/python/keras/engine/base_layer_utils.py:123: calling Zeros.__init__ (from tensorflow.python.ops.init_ops) with dtype is deprecated and will be removed in a future version.\n",
            "Instructions for updating:\n",
            "Call initializer instance with the dtype argument instead of passing it to the constructor\n",
            "INFO:root:Episode: 003, Reward: 010\n",
            "INFO:root:Episode: 004, Reward: 013\n",
            "INFO:root:Episode: 005, Reward: 027\n",
            "INFO:root:Episode: 006, Reward: 031\n",
            "INFO:root:Episode: 007, Reward: 012\n",
            "INFO:root:Episode: 008, Reward: 021\n",
            "INFO:root:Episode: 009, Reward: 029\n",
            "INFO:root:Episode: 010, Reward: 026\n",
            "INFO:root:Episode: 011, Reward: 046\n",
            "INFO:root:Episode: 012, Reward: 026\n",
            "INFO:root:Episode: 013, Reward: 046\n",
            "INFO:root:Episode: 014, Reward: 021\n",
            "INFO:root:Episode: 015, Reward: 014\n",
            "INFO:root:Episode: 016, Reward: 014\n",
            "INFO:root:Episode: 017, Reward: 019\n",
            "INFO:root:Episode: 018, Reward: 025\n",
            "INFO:root:Episode: 019, Reward: 021\n",
            "INFO:root:Episode: 020, Reward: 018\n",
            "INFO:root:Episode: 021, Reward: 025\n",
            "INFO:root:Episode: 022, Reward: 022\n",
            "INFO:root:Episode: 023, Reward: 016\n",
            "INFO:root:Episode: 024, Reward: 019\n",
            "INFO:root:Episode: 025, Reward: 010\n",
            "INFO:root:Episode: 026, Reward: 014\n",
            "INFO:root:Episode: 027, Reward: 036\n",
            "INFO:root:Episode: 028, Reward: 010\n",
            "INFO:root:Episode: 029, Reward: 016\n",
            "INFO:root:Episode: 030, Reward: 021\n",
            "INFO:root:Episode: 031, Reward: 028\n",
            "INFO:root:Episode: 032, Reward: 015\n",
            "INFO:root:Episode: 033, Reward: 013\n",
            "INFO:root:Episode: 034, Reward: 014\n",
            "INFO:root:Episode: 035, Reward: 012\n",
            "INFO:root:Episode: 036, Reward: 030\n",
            "INFO:root:Episode: 037, Reward: 049\n",
            "INFO:root:Episode: 038, Reward: 012\n",
            "INFO:root:Episode: 039, Reward: 021\n",
            "INFO:root:Episode: 040, Reward: 015\n",
            "INFO:root:Episode: 041, Reward: 029\n",
            "INFO:root:Episode: 042, Reward: 021\n",
            "INFO:root:Episode: 043, Reward: 017\n",
            "INFO:root:Episode: 044, Reward: 028\n",
            "INFO:root:Episode: 045, Reward: 017\n",
            "INFO:root:Episode: 046, Reward: 018\n",
            "INFO:root:Episode: 047, Reward: 013\n",
            "INFO:root:Episode: 048, Reward: 019\n",
            "INFO:root:Episode: 049, Reward: 026\n",
            "INFO:root:Episode: 050, Reward: 024\n",
            "INFO:root:Episode: 051, Reward: 048\n",
            "INFO:root:Episode: 052, Reward: 024\n",
            "INFO:root:Episode: 053, Reward: 026\n",
            "INFO:root:Episode: 054, Reward: 015\n",
            "INFO:root:Episode: 055, Reward: 014\n",
            "INFO:root:Episode: 056, Reward: 018\n",
            "INFO:root:Episode: 057, Reward: 023\n",
            "INFO:root:Episode: 058, Reward: 015\n",
            "INFO:root:Episode: 059, Reward: 027\n",
            "INFO:root:Episode: 060, Reward: 031\n",
            "INFO:root:Episode: 061, Reward: 017\n",
            "INFO:root:Episode: 062, Reward: 015\n",
            "INFO:root:Episode: 063, Reward: 021\n",
            "INFO:root:Episode: 064, Reward: 024\n",
            "INFO:root:Episode: 065, Reward: 021\n",
            "INFO:root:Episode: 066, Reward: 020\n",
            "INFO:root:Episode: 067, Reward: 031\n",
            "INFO:root:Episode: 068, Reward: 013\n",
            "INFO:root:Episode: 069, Reward: 018\n",
            "INFO:root:Episode: 070, Reward: 041\n",
            "INFO:root:Episode: 071, Reward: 008\n",
            "INFO:root:Episode: 072, Reward: 019\n",
            "INFO:root:Episode: 073, Reward: 035\n",
            "INFO:root:Episode: 074, Reward: 011\n",
            "INFO:root:Episode: 075, Reward: 021\n",
            "INFO:root:Episode: 076, Reward: 020\n",
            "INFO:root:Episode: 077, Reward: 015\n",
            "INFO:root:Episode: 078, Reward: 044\n",
            "INFO:root:Episode: 079, Reward: 018\n",
            "INFO:root:Episode: 080, Reward: 015\n",
            "INFO:root:Episode: 081, Reward: 081\n",
            "INFO:root:Episode: 082, Reward: 039\n",
            "INFO:root:Episode: 083, Reward: 017\n",
            "INFO:root:Episode: 084, Reward: 027\n",
            "INFO:root:Episode: 085, Reward: 026\n",
            "INFO:root:Episode: 086, Reward: 014\n",
            "INFO:root:Episode: 087, Reward: 036\n",
            "INFO:root:Episode: 088, Reward: 010\n",
            "INFO:root:Episode: 089, Reward: 019\n",
            "INFO:root:Episode: 090, Reward: 020\n",
            "INFO:root:Episode: 091, Reward: 012\n",
            "INFO:root:Episode: 092, Reward: 018\n",
            "INFO:root:Episode: 093, Reward: 014\n",
            "INFO:root:Episode: 094, Reward: 041\n",
            "INFO:root:Episode: 095, Reward: 084\n",
            "INFO:root:Episode: 096, Reward: 020\n",
            "INFO:root:Episode: 097, Reward: 039\n",
            "INFO:root:Episode: 098, Reward: 046\n",
            "INFO:root:Episode: 099, Reward: 039\n",
            "INFO:root:Episode: 100, Reward: 032\n",
            "INFO:root:Episode: 101, Reward: 039\n",
            "INFO:root:Episode: 102, Reward: 032\n",
            "INFO:root:Episode: 103, Reward: 028\n",
            "INFO:root:Episode: 104, Reward: 047\n",
            "INFO:root:Episode: 105, Reward: 018\n",
            "INFO:root:Episode: 106, Reward: 033\n",
            "INFO:root:Episode: 107, Reward: 023\n",
            "INFO:root:Episode: 108, Reward: 035\n",
            "INFO:root:Episode: 109, Reward: 011\n",
            "INFO:root:Episode: 110, Reward: 017\n",
            "INFO:root:Episode: 111, Reward: 017\n",
            "INFO:root:Episode: 112, Reward: 054\n",
            "INFO:root:Episode: 113, Reward: 016\n",
            "INFO:root:Episode: 114, Reward: 023\n",
            "INFO:root:Episode: 115, Reward: 035\n",
            "INFO:root:Episode: 116, Reward: 078\n",
            "INFO:root:Episode: 117, Reward: 024\n",
            "INFO:root:Episode: 118, Reward: 015\n",
            "INFO:root:Episode: 119, Reward: 067\n",
            "INFO:root:Episode: 120, Reward: 047\n",
            "INFO:root:Episode: 121, Reward: 025\n",
            "INFO:root:Episode: 122, Reward: 077\n",
            "INFO:root:Episode: 123, Reward: 011\n",
            "INFO:root:Episode: 124, Reward: 034\n",
            "INFO:root:Episode: 125, Reward: 074\n",
            "INFO:root:Episode: 126, Reward: 033\n",
            "INFO:root:Episode: 127, Reward: 056\n",
            "INFO:root:Episode: 128, Reward: 037\n",
            "INFO:root:Episode: 129, Reward: 016\n",
            "INFO:root:Episode: 130, Reward: 021\n",
            "INFO:root:Episode: 131, Reward: 032\n",
            "INFO:root:Episode: 132, Reward: 040\n",
            "INFO:root:Episode: 133, Reward: 023\n",
            "INFO:root:Episode: 134, Reward: 058\n",
            "INFO:root:Episode: 135, Reward: 019\n",
            "INFO:root:Episode: 136, Reward: 013\n",
            "INFO:root:Episode: 137, Reward: 043\n",
            "INFO:root:Episode: 138, Reward: 038\n",
            "INFO:root:Episode: 139, Reward: 033\n",
            "INFO:root:Episode: 140, Reward: 024\n",
            "INFO:root:Episode: 141, Reward: 039\n",
            "INFO:root:Episode: 142, Reward: 144\n",
            "INFO:root:Episode: 143, Reward: 027\n",
            "INFO:root:Episode: 144, Reward: 042\n",
            "INFO:root:Episode: 145, Reward: 032\n",
            "INFO:root:Episode: 146, Reward: 043\n",
            "INFO:root:Episode: 147, Reward: 012\n",
            "INFO:root:Episode: 148, Reward: 053\n",
            "INFO:root:Episode: 149, Reward: 034\n",
            "INFO:root:Episode: 150, Reward: 051\n",
            "INFO:root:Episode: 151, Reward: 052\n",
            "INFO:root:Episode: 152, Reward: 018\n",
            "INFO:root:Episode: 153, Reward: 040\n",
            "INFO:root:Episode: 154, Reward: 056\n",
            "INFO:root:Episode: 155, Reward: 089\n",
            "INFO:root:Episode: 156, Reward: 021\n",
            "INFO:root:Episode: 157, Reward: 103\n",
            "INFO:root:Episode: 158, Reward: 022\n",
            "INFO:root:Episode: 159, Reward: 026\n",
            "INFO:root:Episode: 160, Reward: 017\n",
            "INFO:root:Episode: 161, Reward: 086\n",
            "INFO:root:Episode: 162, Reward: 064\n",
            "INFO:root:Episode: 163, Reward: 019\n",
            "INFO:root:Episode: 164, Reward: 019\n",
            "INFO:root:Episode: 165, Reward: 033\n",
            "INFO:root:Episode: 166, Reward: 038\n",
            "INFO:root:Episode: 167, Reward: 053\n",
            "INFO:root:Episode: 168, Reward: 031\n",
            "INFO:root:Episode: 169, Reward: 046\n",
            "INFO:root:Episode: 170, Reward: 040\n",
            "INFO:root:Episode: 171, Reward: 039\n",
            "INFO:root:Episode: 172, Reward: 042\n",
            "INFO:root:Episode: 173, Reward: 034\n",
            "INFO:root:Episode: 174, Reward: 023\n",
            "INFO:root:Episode: 175, Reward: 059\n",
            "INFO:root:Episode: 176, Reward: 014\n",
            "INFO:root:Episode: 177, Reward: 071\n",
            "INFO:root:Episode: 178, Reward: 034\n",
            "INFO:root:Episode: 179, Reward: 021\n",
            "INFO:root:Episode: 180, Reward: 036\n",
            "INFO:root:Episode: 181, Reward: 037\n",
            "INFO:root:Episode: 182, Reward: 021\n",
            "INFO:root:Episode: 183, Reward: 028\n",
            "INFO:root:Episode: 184, Reward: 056\n",
            "INFO:root:Episode: 185, Reward: 032\n",
            "INFO:root:Episode: 186, Reward: 037\n",
            "INFO:root:Episode: 187, Reward: 026\n",
            "INFO:root:Episode: 188, Reward: 038\n",
            "INFO:root:Episode: 189, Reward: 030\n",
            "INFO:root:Episode: 190, Reward: 057\n",
            "INFO:root:Episode: 191, Reward: 029\n",
            "INFO:root:Episode: 192, Reward: 057\n",
            "INFO:root:Episode: 193, Reward: 055\n",
            "INFO:root:Episode: 194, Reward: 045\n",
            "INFO:root:Episode: 195, Reward: 080\n",
            "INFO:root:Episode: 196, Reward: 036\n",
            "INFO:root:Episode: 197, Reward: 034\n",
            "INFO:root:Episode: 198, Reward: 067\n",
            "INFO:root:Episode: 199, Reward: 039\n",
            "INFO:root:Episode: 200, Reward: 075\n",
            "INFO:root:Episode: 201, Reward: 045\n",
            "INFO:root:Episode: 202, Reward: 057\n",
            "INFO:root:Episode: 203, Reward: 052\n",
            "INFO:root:Episode: 204, Reward: 060\n",
            "INFO:root:Episode: 205, Reward: 050\n",
            "INFO:root:Episode: 206, Reward: 037\n",
            "INFO:root:Episode: 207, Reward: 023\n",
            "INFO:root:Episode: 208, Reward: 036\n",
            "INFO:root:Episode: 209, Reward: 051\n",
            "INFO:root:Episode: 210, Reward: 080\n",
            "INFO:root:Episode: 211, Reward: 050\n",
            "INFO:root:Episode: 212, Reward: 046\n",
            "INFO:root:Episode: 213, Reward: 049\n",
            "INFO:root:Episode: 214, Reward: 100\n",
            "INFO:root:Episode: 215, Reward: 027\n",
            "INFO:root:Episode: 216, Reward: 035\n",
            "INFO:root:Episode: 217, Reward: 049\n",
            "INFO:root:Episode: 218, Reward: 077\n",
            "INFO:root:Episode: 219, Reward: 042\n",
            "INFO:root:Episode: 220, Reward: 035\n",
            "INFO:root:Episode: 221, Reward: 043\n",
            "INFO:root:Episode: 222, Reward: 032\n",
            "INFO:root:Episode: 223, Reward: 050\n",
            "INFO:root:Episode: 224, Reward: 022\n",
            "INFO:root:Episode: 225, Reward: 015\n",
            "INFO:root:Episode: 226, Reward: 056\n",
            "INFO:root:Episode: 227, Reward: 033\n",
            "INFO:root:Episode: 228, Reward: 110\n",
            "INFO:root:Episode: 229, Reward: 017\n",
            "INFO:root:Episode: 230, Reward: 045\n",
            "INFO:root:Episode: 231, Reward: 083\n",
            "INFO:root:Episode: 232, Reward: 042\n",
            "INFO:root:Episode: 233, Reward: 121\n",
            "INFO:root:Episode: 234, Reward: 037\n",
            "INFO:root:Episode: 235, Reward: 042\n",
            "INFO:root:Episode: 236, Reward: 039\n",
            "INFO:root:Episode: 237, Reward: 049\n",
            "INFO:root:Episode: 238, Reward: 075\n",
            "INFO:root:Episode: 239, Reward: 082\n",
            "INFO:root:Episode: 240, Reward: 036\n",
            "INFO:root:Episode: 241, Reward: 033\n",
            "INFO:root:Episode: 242, Reward: 085\n",
            "INFO:root:Episode: 243, Reward: 057\n",
            "INFO:root:Episode: 244, Reward: 066\n",
            "INFO:root:Episode: 245, Reward: 042\n",
            "INFO:root:Episode: 246, Reward: 046\n",
            "INFO:root:Episode: 247, Reward: 070\n",
            "INFO:root:Episode: 248, Reward: 050\n",
            "INFO:root:Episode: 249, Reward: 060\n",
            "INFO:root:Episode: 250, Reward: 067\n",
            "INFO:root:Episode: 251, Reward: 046\n",
            "INFO:root:Episode: 252, Reward: 052\n",
            "INFO:root:Episode: 253, Reward: 057\n",
            "INFO:root:Episode: 254, Reward: 141\n",
            "INFO:root:Episode: 255, Reward: 052\n",
            "INFO:root:Episode: 256, Reward: 095\n",
            "INFO:root:Episode: 257, Reward: 124\n",
            "INFO:root:Episode: 258, Reward: 025\n",
            "INFO:root:Episode: 259, Reward: 085\n",
            "INFO:root:Episode: 260, Reward: 032\n",
            "INFO:root:Episode: 261, Reward: 036\n",
            "INFO:root:Episode: 262, Reward: 078\n",
            "INFO:root:Episode: 263, Reward: 019\n",
            "INFO:root:Episode: 264, Reward: 037\n",
            "INFO:root:Episode: 265, Reward: 055\n",
            "INFO:root:Episode: 266, Reward: 044\n",
            "INFO:root:Episode: 267, Reward: 051\n",
            "INFO:root:Episode: 268, Reward: 055\n",
            "INFO:root:Episode: 269, Reward: 086\n",
            "INFO:root:Episode: 270, Reward: 043\n",
            "INFO:root:Episode: 271, Reward: 059\n",
            "INFO:root:Episode: 272, Reward: 077\n",
            "INFO:root:Episode: 273, Reward: 073\n",
            "INFO:root:Episode: 274, Reward: 067\n",
            "INFO:root:Episode: 275, Reward: 045\n",
            "INFO:root:Episode: 276, Reward: 094\n",
            "INFO:root:Episode: 277, Reward: 017\n",
            "INFO:root:Episode: 278, Reward: 150\n",
            "INFO:root:Episode: 279, Reward: 015\n",
            "INFO:root:Episode: 280, Reward: 034\n",
            "INFO:root:Episode: 281, Reward: 112\n",
            "INFO:root:Episode: 282, Reward: 075\n",
            "INFO:root:Episode: 283, Reward: 172\n",
            "INFO:root:Episode: 284, Reward: 095\n",
            "INFO:root:Episode: 285, Reward: 081\n",
            "INFO:root:Episode: 286, Reward: 084\n",
            "INFO:root:Episode: 287, Reward: 058\n",
            "INFO:root:Episode: 288, Reward: 120\n",
            "INFO:root:Episode: 289, Reward: 124\n",
            "INFO:root:Episode: 290, Reward: 056\n",
            "INFO:root:Episode: 291, Reward: 088\n",
            "INFO:root:Episode: 292, Reward: 167\n",
            "INFO:root:Episode: 293, Reward: 057\n",
            "INFO:root:Episode: 294, Reward: 174\n",
            "INFO:root:Episode: 295, Reward: 059\n",
            "INFO:root:Episode: 296, Reward: 185\n",
            "INFO:root:Episode: 297, Reward: 140\n",
            "INFO:root:Episode: 298, Reward: 131\n",
            "INFO:root:Episode: 299, Reward: 088\n",
            "INFO:root:Episode: 300, Reward: 126\n",
            "INFO:root:Episode: 301, Reward: 097\n",
            "INFO:root:Episode: 302, Reward: 082\n",
            "INFO:root:Episode: 303, Reward: 200\n",
            "INFO:root:Episode: 304, Reward: 078\n",
            "INFO:root:Episode: 305, Reward: 196\n",
            "INFO:root:Episode: 306, Reward: 021\n",
            "INFO:root:Episode: 307, Reward: 091\n",
            "INFO:root:Episode: 308, Reward: 162\n",
            "INFO:root:Episode: 309, Reward: 197\n",
            "INFO:root:Episode: 310, Reward: 200\n",
            "INFO:root:Episode: 311, Reward: 085\n",
            "INFO:root:Episode: 312, Reward: 064\n",
            "INFO:root:Episode: 313, Reward: 067\n",
            "INFO:root:Episode: 314, Reward: 200\n",
            "INFO:root:Episode: 315, Reward: 092\n",
            "INFO:root:Episode: 316, Reward: 168\n",
            "INFO:root:Episode: 317, Reward: 086\n",
            "INFO:root:Episode: 318, Reward: 085\n",
            "INFO:root:Episode: 319, Reward: 066\n",
            "INFO:root:Episode: 320, Reward: 070\n",
            "INFO:root:Episode: 321, Reward: 200\n",
            "INFO:root:Episode: 322, Reward: 079\n",
            "INFO:root:Episode: 323, Reward: 030\n",
            "INFO:root:Episode: 324, Reward: 192\n",
            "INFO:root:Episode: 325, Reward: 055\n",
            "INFO:root:Episode: 326, Reward: 159\n",
            "INFO:root:Episode: 327, Reward: 066\n",
            "INFO:root:Episode: 328, Reward: 180\n",
            "INFO:root:Episode: 329, Reward: 078\n",
            "INFO:root:Episode: 330, Reward: 200\n",
            "INFO:root:Episode: 331, Reward: 183\n",
            "INFO:root:Episode: 332, Reward: 200\n",
            "INFO:root:Episode: 333, Reward: 200\n",
            "INFO:root:Episode: 334, Reward: 108\n",
            "INFO:root:Episode: 335, Reward: 200\n",
            "INFO:root:Episode: 336, Reward: 118\n",
            "INFO:root:Episode: 337, Reward: 200\n",
            "INFO:root:Episode: 338, Reward: 155\n",
            "INFO:root:Episode: 339, Reward: 139\n",
            "INFO:root:Episode: 340, Reward: 065\n",
            "INFO:root:Episode: 341, Reward: 200\n",
            "INFO:root:Episode: 342, Reward: 088\n",
            "INFO:root:Episode: 343, Reward: 181\n",
            "INFO:root:Episode: 344, Reward: 031\n",
            "INFO:root:Episode: 345, Reward: 098\n",
            "INFO:root:Episode: 346, Reward: 050\n",
            "INFO:root:Episode: 347, Reward: 132\n",
            "INFO:root:Episode: 348, Reward: 034\n",
            "INFO:root:Episode: 349, Reward: 192\n",
            "INFO:root:Episode: 350, Reward: 067\n",
            "INFO:root:Episode: 351, Reward: 159\n",
            "INFO:root:Episode: 352, Reward: 097\n",
            "INFO:root:Episode: 353, Reward: 144\n",
            "INFO:root:Episode: 354, Reward: 195\n",
            "INFO:root:Episode: 355, Reward: 063\n",
            "INFO:root:Episode: 356, Reward: 131\n",
            "INFO:root:Episode: 357, Reward: 137\n",
            "INFO:root:Episode: 358, Reward: 200\n",
            "INFO:root:Episode: 359, Reward: 200\n",
            "INFO:root:Episode: 360, Reward: 200\n",
            "INFO:root:Episode: 361, Reward: 046\n",
            "INFO:root:Episode: 362, Reward: 196\n",
            "INFO:root:Episode: 363, Reward: 149\n",
            "INFO:root:Episode: 364, Reward: 112\n",
            "INFO:root:Episode: 365, Reward: 195\n",
            "INFO:root:Episode: 366, Reward: 140\n",
            "INFO:root:Episode: 367, Reward: 132\n",
            "INFO:root:Episode: 368, Reward: 200\n",
            "INFO:root:Episode: 369, Reward: 200\n",
            "INFO:root:Episode: 370, Reward: 200\n",
            "INFO:root:Episode: 371, Reward: 196\n",
            "INFO:root:Episode: 372, Reward: 144\n",
            "INFO:root:Episode: 373, Reward: 163\n",
            "INFO:root:Episode: 374, Reward: 127\n",
            "INFO:root:Episode: 375, Reward: 200\n",
            "INFO:root:Episode: 376, Reward: 200\n",
            "INFO:root:Episode: 377, Reward: 200\n",
            "INFO:root:Episode: 378, Reward: 186\n",
            "INFO:root:Episode: 379, Reward: 141\n",
            "INFO:root:Episode: 380, Reward: 079\n",
            "INFO:root:Episode: 381, Reward: 034\n",
            "INFO:root:Episode: 382, Reward: 165\n",
            "INFO:root:Episode: 383, Reward: 200\n",
            "INFO:root:Episode: 384, Reward: 200\n",
            "INFO:root:Episode: 385, Reward: 200\n",
            "INFO:root:Episode: 386, Reward: 200\n",
            "INFO:root:Episode: 387, Reward: 142\n",
            "INFO:root:Episode: 388, Reward: 068\n",
            "INFO:root:Episode: 389, Reward: 200\n",
            "INFO:root:Episode: 390, Reward: 162\n",
            "INFO:root:Episode: 391, Reward: 152\n",
            "INFO:root:Episode: 392, Reward: 179\n",
            "INFO:root:Episode: 393, Reward: 200\n",
            "INFO:root:Episode: 394, Reward: 175\n",
            "INFO:root:Episode: 395, Reward: 157\n",
            "INFO:root:Episode: 396, Reward: 200\n",
            "INFO:root:Episode: 397, Reward: 139\n",
            "INFO:root:Episode: 398, Reward: 200\n",
            "INFO:root:Episode: 399, Reward: 133\n",
            "INFO:root:Episode: 400, Reward: 131\n",
            "INFO:root:Episode: 401, Reward: 129\n",
            "INFO:root:Episode: 402, Reward: 121\n",
            "INFO:root:Episode: 403, Reward: 098\n",
            "INFO:root:Episode: 404, Reward: 161\n",
            "INFO:root:Episode: 405, Reward: 200\n",
            "INFO:root:Episode: 406, Reward: 152\n",
            "INFO:root:Episode: 407, Reward: 197\n",
            "INFO:root:Episode: 408, Reward: 200\n",
            "INFO:root:Episode: 409, Reward: 084\n",
            "INFO:root:Episode: 410, Reward: 200\n",
            "INFO:root:Episode: 411, Reward: 200\n",
            "INFO:root:Episode: 412, Reward: 147\n",
            "INFO:root:Episode: 413, Reward: 200\n",
            "INFO:root:Episode: 414, Reward: 179\n",
            "INFO:root:Episode: 415, Reward: 145\n",
            "INFO:root:Episode: 416, Reward: 200\n",
            "INFO:root:Episode: 417, Reward: 133\n",
            "INFO:root:Episode: 418, Reward: 200\n",
            "INFO:root:Episode: 419, Reward: 149\n",
            "INFO:root:Episode: 420, Reward: 200\n",
            "INFO:root:Episode: 421, Reward: 152\n",
            "INFO:root:Episode: 422, Reward: 136\n",
            "INFO:root:Episode: 423, Reward: 111\n",
            "INFO:root:Episode: 424, Reward: 200\n",
            "INFO:root:Episode: 425, Reward: 200\n",
            "INFO:root:Episode: 426, Reward: 198\n",
            "INFO:root:Episode: 427, Reward: 193\n",
            "INFO:root:Episode: 428, Reward: 167\n",
            "INFO:root:Episode: 429, Reward: 200\n"
          ],
          "name": "stderr"
        },
        {
          "output_type": "stream",
          "text": [
            "Finished training, testing...\n",
            "Total Episode Reward: 200 out of 200\n"
          ],
          "name": "stdout"
        }
      ]
    },
    {
      "metadata": {
        "id": "0k55LpUOg4Z4",
        "colab_type": "text"
      },
      "cell_type": "markdown",
      "source": [
        "## Benchmarks"
      ]
    },
    {
      "metadata": {
        "id": "aR5J2WCZg4Z5",
        "colab_type": "code",
        "colab": {}
      },
      "cell_type": "code",
      "source": [
        "# Note: comparing wall time isn't exactly fair due to specifics of how things are executed on multi-core CPU"
      ],
      "execution_count": 0,
      "outputs": []
    },
    {
      "metadata": {
        "id": "fl51m1PXg4Z8",
        "colab_type": "code",
        "outputId": "e946f3f1-9d34-47b8-8520-060044dc6680",
        "colab": {
          "base_uri": "https://localhost:8080/",
          "height": 52
        }
      },
      "cell_type": "code",
      "source": [
        "env = gym.make('CartPole-v0')\n",
        "obs = np.repeat(env.reset()[None, :], 100000, axis=0)"
      ],
      "execution_count": 0,
      "outputs": [
        {
          "output_type": "stream",
          "text": [
            "/usr/local/lib/python3.6/dist-packages/gym/envs/registration.py:14: PkgResourcesDeprecationWarning: Parameters to load are deprecated.  Call .resolve and .require separately.\n",
            "  result = entry_point.load(False)\n"
          ],
          "name": "stderr"
        }
      ]
    },
    {
      "metadata": {
        "id": "3Y6LxDvBg4Z9",
        "colab_type": "text"
      },
      "cell_type": "markdown",
      "source": [
        "### Eager Benchmark"
      ]
    },
    {
      "metadata": {
        "id": "8CpTEYnxg4Z_",
        "colab_type": "code",
        "outputId": "25c01008-d229-4555-8063-1634fa2a39f5",
        "colab": {
          "base_uri": "https://localhost:8080/",
          "height": 87
        }
      },
      "cell_type": "code",
      "source": [
        "%%time\n",
        "\n",
        "model = Model(env.action_space.n)\n",
        "model.run_eagerly = True\n",
        "\n",
        "print(\"Eager Execution:  \", tf.executing_eagerly())\n",
        "print(\"Eager Keras Model:\", model.run_eagerly)\n",
        "\n",
        "_ = model(obs)\n",
        "# _ = model.predict(obs)"
      ],
      "execution_count": 0,
      "outputs": [
        {
          "output_type": "stream",
          "text": [
            "Eager Execution:   True\n",
            "Eager Keras Model: True\n",
            "CPU times: user 363 ms, sys: 203 ms, total: 566 ms\n",
            "Wall time: 331 ms\n"
          ],
          "name": "stdout"
        }
      ]
    },
    {
      "metadata": {
        "id": "N-9FMyk-g4aB",
        "colab_type": "text"
      },
      "cell_type": "markdown",
      "source": [
        "### Static Benchmark"
      ]
    },
    {
      "metadata": {
        "id": "t3RqVlslg4aB",
        "colab_type": "code",
        "outputId": "0b701f86-4aa4-48f2-dbe4-2fc6babdcbfe",
        "colab": {
          "base_uri": "https://localhost:8080/",
          "height": 87
        }
      },
      "cell_type": "code",
      "source": [
        "%%time\n",
        "\n",
        "with tf.Graph().as_default():\n",
        "    model = Model(env.action_space.n)\n",
        "\n",
        "    print(\"Eager Execution:  \", tf.executing_eagerly())\n",
        "    print(\"Eager Keras Model:\", model.run_eagerly)\n",
        "\n",
        "    _ = model.predict(obs)"
      ],
      "execution_count": 0,
      "outputs": [
        {
          "output_type": "stream",
          "text": [
            "Eager Execution:   False\n",
            "Eager Keras Model: False\n",
            "CPU times: user 1.54 s, sys: 102 ms, total: 1.65 s\n",
            "Wall time: 1.16 s\n"
          ],
          "name": "stdout"
        }
      ]
    },
    {
      "metadata": {
        "id": "vXKB5vcsg4aG",
        "colab_type": "text"
      },
      "cell_type": "markdown",
      "source": [
        "### Default Benchmark"
      ]
    },
    {
      "metadata": {
        "id": "3aqkh1yTg4aH",
        "colab_type": "code",
        "outputId": "43985004-927c-4736-9286-462a14f4adfd",
        "colab": {
          "base_uri": "https://localhost:8080/",
          "height": 87
        }
      },
      "cell_type": "code",
      "source": [
        "%%time\n",
        "\n",
        "model = Model(env.action_space.n)\n",
        "\n",
        "print(\"Eager Execution:  \", tf.executing_eagerly())\n",
        "print(\"Eager Keras Model:\", model.run_eagerly)\n",
        "\n",
        "_ = model.predict(obs)"
      ],
      "execution_count": 0,
      "outputs": [
        {
          "output_type": "stream",
          "text": [
            "Eager Execution:   True\n",
            "Eager Keras Model: False\n",
            "CPU times: user 1.66 s, sys: 124 ms, total: 1.79 s\n",
            "Wall time: 1.28 s\n"
          ],
          "name": "stdout"
        }
      ]
    }
  ]
}